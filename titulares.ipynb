{
 "cells": [
  {
   "cell_type": "code",
   "execution_count": 20,
   "metadata": {},
   "outputs": [],
   "source": [
    "import pandas as pd\n",
    "import requests\n",
    "from bs4 import BeautifulSoup, SoupStrainer"
   ]
  },
  {
   "cell_type": "code",
   "execution_count": 31,
   "metadata": {},
   "outputs": [],
   "source": [
    "req = requests.get(\"https://www.eitb.eus/es/tag/titulares-del-dia/\")"
   ]
  },
  {
   "cell_type": "code",
   "execution_count": 47,
   "metadata": {},
   "outputs": [],
   "source": [
    "html = BeautifulSoup(req.text, 'html.parser')\n",
    "selection = html.select('div.contenido_tags > div')\n",
    "\n",
    "clases_noticias = [\"contenido_tag\", \"t_noticia\", \"t_video\"]\n",
    "\n",
    "df = pd.DataFrame(columns=['titular', 'descripcion', 'fecha', 'hora'])\n",
    "\n",
    "for element in selection:\n",
    "    flag = True\n",
    "    \n",
    "    for clase in element.get(\"class\"):\n",
    "        if clase not in clases_noticias:\n",
    "            flag = False\n",
    "    \n",
    "    if flag:\n",
    "        fecha = element.select('div.texto_data > span.fecha_noticia')[0].text\n",
    "        hora = element.select('div.texto_data > span.hora_noticia')[0].text\n",
    "        titular = element.select('div.datos_contenido > h2.titulo > a')[0].text\n",
    "        desc = element.select('div.datos_contenido > span.descripcion')[0].text\n",
    "        \n",
    "        df.loc[len(df)] = titular, desc, fecha, hora"
   ]
  },
  {
   "cell_type": "code",
   "execution_count": 49,
   "metadata": {},
   "outputs": [
    {
     "data": {
      "text/html": [
       "<div>\n",
       "<style scoped>\n",
       "    .dataframe tbody tr th:only-of-type {\n",
       "        vertical-align: middle;\n",
       "    }\n",
       "\n",
       "    .dataframe tbody tr th {\n",
       "        vertical-align: top;\n",
       "    }\n",
       "\n",
       "    .dataframe thead th {\n",
       "        text-align: right;\n",
       "    }\n",
       "</style>\n",
       "<table border=\"1\" class=\"dataframe\">\n",
       "  <thead>\n",
       "    <tr style=\"text-align: right;\">\n",
       "      <th></th>\n",
       "      <th>titular</th>\n",
       "      <th>descripcion</th>\n",
       "      <th>fecha</th>\n",
       "      <th>hora</th>\n",
       "    </tr>\n",
       "  </thead>\n",
       "  <tbody>\n",
       "    <tr>\n",
       "      <th>0</th>\n",
       "      <td>Retenciones de hasta 11 kilómetros en la N-1, ...</td>\n",
       "      <td>Una persona ha resultado herida y ha sido tras...</td>\n",
       "      <td>11/04/2019</td>\n",
       "      <td>08:48</td>\n",
       "    </tr>\n",
       "    <tr>\n",
       "      <th>1</th>\n",
       "      <td>Los vecinos de Barakaldo reciben a la Korrika ...</td>\n",
       "      <td>La carrera a favor del euskera a llegado a med...</td>\n",
       "      <td>11/04/2019</td>\n",
       "      <td>08:46</td>\n",
       "    </tr>\n",
       "    <tr>\n",
       "      <th>2</th>\n",
       "      <td>Un juzgado de violencia machista investigará a...</td>\n",
       "      <td>Supone un nuevo giro en el caso del suicidio a...</td>\n",
       "      <td>11/04/2019</td>\n",
       "      <td>08:46</td>\n",
       "    </tr>\n",
       "    <tr>\n",
       "      <th>3</th>\n",
       "      <td>La Unión Europea pospone el 'brexit' hasta el ...</td>\n",
       "      <td>A cambio el Reino Unido deberá participar en l...</td>\n",
       "      <td>11/04/2019</td>\n",
       "      <td>08:25</td>\n",
       "    </tr>\n",
       "    <tr>\n",
       "      <th>4</th>\n",
       "      <td>Retrasos en los trenes de Cercanías San Sebast...</td>\n",
       "      <td>El servicio ha estado interrumpido entre San S...</td>\n",
       "      <td>11/04/2019</td>\n",
       "      <td>08:13</td>\n",
       "    </tr>\n",
       "  </tbody>\n",
       "</table>\n",
       "</div>"
      ],
      "text/plain": [
       "                                             titular  \\\n",
       "0  Retenciones de hasta 11 kilómetros en la N-1, ...   \n",
       "1  Los vecinos de Barakaldo reciben a la Korrika ...   \n",
       "2  Un juzgado de violencia machista investigará a...   \n",
       "3  La Unión Europea pospone el 'brexit' hasta el ...   \n",
       "4  Retrasos en los trenes de Cercanías San Sebast...   \n",
       "\n",
       "                                         descripcion       fecha   hora  \n",
       "0  Una persona ha resultado herida y ha sido tras...  11/04/2019  08:48  \n",
       "1  La carrera a favor del euskera a llegado a med...  11/04/2019  08:46  \n",
       "2  Supone un nuevo giro en el caso del suicidio a...  11/04/2019  08:46  \n",
       "3  A cambio el Reino Unido deberá participar en l...  11/04/2019  08:25  \n",
       "4  El servicio ha estado interrumpido entre San S...  11/04/2019  08:13  "
      ]
     },
     "execution_count": 49,
     "metadata": {},
     "output_type": "execute_result"
    }
   ],
   "source": [
    "df.head()"
   ]
  },
  {
   "cell_type": "code",
   "execution_count": 52,
   "metadata": {},
   "outputs": [],
   "source": [
    "df.to_csv('titulares.csv', sep=';')"
   ]
  },
  {
   "cell_type": "code",
   "execution_count": null,
   "metadata": {},
   "outputs": [],
   "source": []
  }
 ],
 "metadata": {
  "kernelspec": {
   "display_name": "Python 3",
   "language": "python",
   "name": "python3"
  },
  "language_info": {
   "codemirror_mode": {
    "name": "ipython",
    "version": 3
   },
   "file_extension": ".py",
   "mimetype": "text/x-python",
   "name": "python",
   "nbconvert_exporter": "python",
   "pygments_lexer": "ipython3",
   "version": "3.7.1"
  }
 },
 "nbformat": 4,
 "nbformat_minor": 2
}
